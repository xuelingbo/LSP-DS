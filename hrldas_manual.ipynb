{
 "cells": [
  {
   "cell_type": "markdown",
   "id": "e6238235-9278-4441-af31-c25d4ac1386a",
   "metadata": {
    "jp-MarkdownHeadingCollapsed": true
   },
   "source": [
    "<h1 align=\"center\">HRLDAS Manual</h1>"
   ]
  },
  {
   "cell_type": "markdown",
   "id": "17605a39",
   "metadata": {},
   "source": [
    "<div style=\"text-align: right; font-style: italic;\">\n",
    "Created by XUE Lingbo <br>\n",
    "2024.05.02 <br>\n",
    "CCS, Tsukuba, Japan <br>\n",
    "</div>"
   ]
  },
  {
   "cell_type": "markdown",
   "id": "524f6098-7f5c-4b2e-8770-686db23a71ea",
   "metadata": {},
   "source": [
    "# 1. Install Libraries"
   ]
  },
  {
   "cell_type": "markdown",
   "id": "10e4f2cc-3373-4c39-b639-7d249228b4cd",
   "metadata": {},
   "source": [
    "## 1.1 Install NetCDF"
   ]
  },
  {
   "cell_type": "markdown",
   "id": "2bb006cc-9ea4-4fe2-ab31-95f8f3df287e",
   "metadata": {},
   "source": [
    "Installing NetCDF on Ubuntu can be done through several methods, here’s a basic guide on how to install NetCDF for C and Fortran."
   ]
  },
  {
   "cell_type": "markdown",
   "id": "85a54fbb-d72e-42ca-a49f-3aedeb4a7446",
   "metadata": {},
   "source": [
    "### Installing NetCDF-C"
   ]
  },
  {
   "cell_type": "markdown",
   "id": "0cb62435-ecd9-45ab-9c66-ce6b38b2fb11",
   "metadata": {},
   "source": [
    "- **Update your package list**:\n",
    "```bash\n",
    "sudo apt-get update\n",
    "```"
   ]
  },
  {
   "cell_type": "markdown",
   "id": "ba7aa29b-1e70-4d00-afc8-bfaa817a2f40",
   "metadata": {},
   "source": [
    "- **Install NetCDF-C**:\n",
    "   ```bash\n",
    "   sudo apt-get install libnetcdf-dev\n",
    "   ```"
   ]
  },
  {
   "cell_type": "markdown",
   "id": "184f7796-a921-405b-ad36-1420d7def3c0",
   "metadata": {},
   "source": [
    "- **Install NetCDF binaries** (optional, if you need the NetCDF command line tools):\n",
    "   ```bash\n",
    "   sudo apt-get install netcdf-bin\n",
    "   ```"
   ]
  },
  {
   "cell_type": "markdown",
   "id": "cad36fb7-2da9-44b7-b0dc-91bb8fd51573",
   "metadata": {},
   "source": [
    "### Installing NetCDF-Fortran"
   ]
  },
  {
   "cell_type": "markdown",
   "id": "1be6f22d-41ce-42ae-88df-2c6c6d611caf",
   "metadata": {},
   "source": [
    "After installing NetCDF-C, you can proceed to install NetCDF-Fortran. It's crucial that NetCDF-C is installed first because the Fortran interface depends on it."
   ]
  },
  {
   "cell_type": "markdown",
   "id": "61487dc3-1738-45ba-a273-8deec2f6c600",
   "metadata": {},
   "source": [
    "- **Install the NetCDF Fortran library**:\n",
    "   ```bash\n",
    "   sudo apt-get install libnetcdff-dev\n",
    "   ```"
   ]
  },
  {
   "cell_type": "markdown",
   "id": "510447f2-7a9c-4e6c-835c-f586b4f9d1c9",
   "metadata": {},
   "source": [
    "### Verifying Installation"
   ]
  },
  {
   "cell_type": "markdown",
   "id": "bdc69665-7abe-4799-8526-a4cc2c0d04d1",
   "metadata": {},
   "source": [
    "After installation, you can verify that NetCDF is installed correctly by checking the version of the installed library. For example:"
   ]
  },
  {
   "cell_type": "markdown",
   "id": "dd28ce91-7406-4ad5-85c1-2585143c6496",
   "metadata": {},
   "source": [
    "- For NetCDF-C:\n",
    "  ```bash\n",
    "  nc-config --version\n",
    "  ```"
   ]
  },
  {
   "cell_type": "markdown",
   "id": "111a446d-c429-4aa0-a1fd-324f91efad52",
   "metadata": {},
   "source": [
    "- For NetCDF-Fortran:\n",
    "  ```bash\n",
    "  nf-config --version\n",
    "  ```"
   ]
  },
  {
   "cell_type": "markdown",
   "id": "81802e84-8743-4676-985c-b0c1f276f4e6",
   "metadata": {},
   "source": [
    "These commands should output the version number of NetCDF-C and NetCDF-Fortran, respectively."
   ]
  },
  {
   "cell_type": "markdown",
   "id": "3e212451-b9dd-442a-905e-be3a6655f893",
   "metadata": {},
   "source": [
    "## 1.2 Install Jasper (only for CREATE_FORCING)"
   ]
  },
  {
   "cell_type": "markdown",
   "id": "e55b22c4-1fe4-4e31-a328-04da9c33f7c9",
   "metadata": {},
   "source": [
    "Jasper is a software library for handling JPEG-2000 image data formats. It’s commonly used in applications that require image processing and is a prerequisite for other software like GRIB decoding tools in meteorological software. "
   ]
  },
  {
   "cell_type": "markdown",
   "id": "11353b70-5e27-4646-aa58-1450fdf2c17e",
   "metadata": {},
   "source": [
    "- **Install Jasper**:"
   ]
  },
  {
   "cell_type": "markdown",
   "id": "b3cf60ef-b04b-475d-a622-caa8b49f9f6e",
   "metadata": {},
   "source": [
    "You can then install Jasper using `apt-get`:\n",
    "```bash\n",
    "sudo apt-get install libjasper-dev\n",
    "```"
   ]
  },
  {
   "cell_type": "markdown",
   "id": "0bbb769f-8052-44d5-9e23-0955e3fc87a1",
   "metadata": {},
   "source": [
    "   This command installs the development files for Jasper, which are usually required if you are doing any development work that includes Jasper. If you also need the runtime utilities for Jasper, install them using:"
   ]
  },
  {
   "cell_type": "markdown",
   "id": "fe3451c1-5e9b-4487-a63f-f4b72c6c6a90",
   "metadata": {},
   "source": [
    "```bash\n",
    "sudo apt-get install libjasper-runtime\n",
    "```"
   ]
  },
  {
   "cell_type": "markdown",
   "id": "c01878c4-325a-461f-8bf1-4f04478d0b41",
   "metadata": {},
   "source": [
    "- **Verify the installation**:"
   ]
  },
  {
   "cell_type": "markdown",
   "id": "c384a129-6b93-4db3-a459-a8acb62ddbb3",
   "metadata": {},
   "source": [
    " You can verify if Jasper is installed correctly by checking the version or by running one of the Jasper commands:"
   ]
  },
  {
   "cell_type": "markdown",
   "id": "38ea55a7-dfcc-4b22-9f0f-d944507a7082",
   "metadata": {},
   "source": [
    "```bash\n",
    "jasper --version\n",
    "```  "
   ]
  },
  {
   "cell_type": "markdown",
   "id": "a63ff7ec-297a-4336-9bdc-d92b8eeab922",
   "metadata": {},
   "source": [
    " If Jasper is installed, this command should output the version number of Jasper installed on your system."
   ]
  },
  {
   "cell_type": "markdown",
   "id": "da405184-b210-4df0-9417-2f9b2c7fc208",
   "metadata": {},
   "source": [
    "# 2. Download and Compile HRLDAS "
   ]
  },
  {
   "cell_type": "markdown",
   "id": "49e75d01-febc-4440-abe9-f02b434aa69c",
   "metadata": {},
   "source": [
    "## 2.1 Download the model code"
   ]
  },
  {
   "cell_type": "markdown",
   "id": "206dbd0f-1506-46d3-ac25-8b04c84c02f9",
   "metadata": {},
   "source": [
    "We encourage obtaining a copy of the model source code from the GitHub repository, with the \"git clone\" command. Since the NoahMP model is organized as a submodule under the HRLDAS driver, don't forget to use \"--submodule\" option when making the copy:"
   ]
  },
  {
   "cell_type": "markdown",
   "id": "46de3c14-8a4a-4617-8af1-58c123064e22",
   "metadata": {},
   "source": [
    "```bash\n",
    "git clone --recurse-submodules https://github.com/NCAR/hrldas\n",
    "```"
   ]
  },
  {
   "cell_type": "markdown",
   "id": "eeeeeb2c-5a5c-4542-a00c-2861c6373839",
   "metadata": {},
   "source": [
    "Remember to add this option, ```--recurse-submodules```, to include noahmp as a submodule. If it is not specified, the Noah-MP source code will not be downloaded."
   ]
  },
  {
   "cell_type": "markdown",
   "id": "06e1f3c4-38db-4d58-9b9d-8931a471493a",
   "metadata": {},
   "source": [
    "```ls -l hrldas``` and check the hrldas directory\n"
   ]
  },
  {
   "cell_type": "markdown",
   "id": "45a2aae4-7a10-4c7d-8a00-5819c2c708bd",
   "metadata": {},
   "source": [
    "## 2.2 Compile HRLDAS"
   ]
  },
  {
   "cell_type": "markdown",
   "id": "2965368f-5135-44f0-80c1-663d4339aa53",
   "metadata": {},
   "source": [
    "Now we can start configure and compile the model."
   ]
  },
  {
   "cell_type": "markdown",
   "id": "528ed570-e233-49e9-b90b-f6e7febce819",
   "metadata": {},
   "source": [
    "```bash\n",
    "cd ./hrldas/hrldas\n",
    "./configure\n",
    "```"
   ]
  },
  {
   "cell_type": "markdown",
   "id": "1665e52b-3d71-4fc1-8ce1-72be4d4f6efb",
   "metadata": {},
   "source": [
    "Type your compiler option in number in the command line. For Ubuntu, we use ```6. Linux gfortran/gcc compiler serial```"
   ]
  },
  {
   "cell_type": "markdown",
   "id": "88d0e982-e35e-4774-af4e-5ace6ce8f2a6",
   "metadata": {},
   "source": [
    "A configuration file ```user_build_options``` will appear in the directory. Go into the file and edit the correct path to ```NetCDF``` and ```JASPER```.  "
   ]
  },
  {
   "cell_type": "markdown",
   "id": "cb8e4f7e-f5f7-48cd-b8d2-a0b5a9a4d9ba",
   "metadata": {},
   "source": [
    "- **NETCDFMOD**"
   ]
  },
  {
   "cell_type": "markdown",
   "id": "a81fba18-73e9-4aa4-b2c7-50291dc2c51e",
   "metadata": {},
   "source": [
    "```\n",
    "NETCDFMOD      =      -I/usr/include\n",
    "```"
   ]
  },
  {
   "cell_type": "markdown",
   "id": "45b1353e-4899-4859-b441-598f8cecaaaa",
   "metadata": {},
   "source": [
    "This command can be used to check the directory\n",
    "```dpkg -L libnetcdf-dev | grep '\\.h$'```"
   ]
  },
  {
   "cell_type": "markdown",
   "id": "82994d44-9111-42c7-bcd0-0563ecf674de",
   "metadata": {},
   "source": [
    "- **NETCDFLIB**"
   ]
  },
  {
   "cell_type": "markdown",
   "id": "bb05ed94-fc97-4b08-8e03-4a41dfcc4777",
   "metadata": {},
   "source": [
    "```\n",
    "NETCDFLIB      =      -L/usr/lib -lnetcdf -lnetcdff\n",
    "```"
   ]
  },
  {
   "cell_type": "markdown",
   "id": "66885fc5-8d55-446d-86b0-0313d4386b1d",
   "metadata": {},
   "source": [
    "This command can be used to check the directory\n",
    "```dpkg -L libnetcdf-dev | grep '\\.so$'```"
   ]
  },
  {
   "cell_type": "markdown",
   "id": "9727cba7-02fe-4d57-b6e5-e22b7c95c924",
   "metadata": {},
   "source": [
    "- **LIBJASPER**"
   ]
  },
  {
   "cell_type": "markdown",
   "id": "35f2698a-cf09-4fd5-8eea-31986a23436d",
   "metadata": {},
   "source": [
    "```\n",
    "LIBJASPER      =      -L/usr/lib -ljasper -ljpeg\n",
    "```"
   ]
  },
  {
   "cell_type": "markdown",
   "id": "309788fe-db8f-4e28-8bf4-6e9fcf6410ef",
   "metadata": {},
   "source": [
    "- **INCJASPER**"
   ]
  },
  {
   "cell_type": "markdown",
   "id": "ea09ea6e-cb52-4b53-a185-69999014ccc0",
   "metadata": {},
   "source": [
    "```\n",
    "INCJASPER      =      -I/usr/include/\n",
    "```"
   ]
  },
  {
   "cell_type": "markdown",
   "id": "ac30922b-1490-45c9-975b-5c0ac83e9f9b",
   "metadata": {},
   "source": [
    "If you don't use create_forcing.F, you can just comment out the ```LIBJASPER``` and ```INCJASPER```"
   ]
  },
  {
   "cell_type": "markdown",
   "id": "68b3b402-4080-4845-b780-93dddacdec03",
   "metadata": {},
   "source": [
    "Let's start compiling."
   ]
  },
  {
   "cell_type": "markdown",
   "id": "e8fb54e7-cb77-4dd3-a929-e89c169839a5",
   "metadata": {},
   "source": [
    "```bash\n",
    "make\n",
    "```"
   ]
  },
  {
   "cell_type": "markdown",
   "id": "1dcd51fd-dad0-438a-89b8-df8448b5ae9f",
   "metadata": {},
   "source": [
    "and the model will start compiling through each module file. If you want to save the compilation log, you can run this:"
   ]
  },
  {
   "cell_type": "markdown",
   "id": "399ba45a-eec1-45ee-968a-deb9c651213b",
   "metadata": {},
   "source": [
    "```bash\n",
    "make >& compile.log\n",
    "```"
   ]
  },
  {
   "cell_type": "markdown",
   "id": "00470d68-6f18-4815-9abe-6f01db760d8e",
   "metadata": {},
   "source": [
    "Search through the ```compile.log``` file, if there isn't any \"Error\" message, and two executables are successfully built: ```hrldas.exe``` in run directory and ```create_forcing.exe``` in HRLDAS_forcing directory."
   ]
  },
  {
   "cell_type": "markdown",
   "id": "7ea1b334-11d1-4da9-b73e-0dbbca2b8f46",
   "metadata": {},
   "source": [
    "# Run HRLDAS"
   ]
  },
  {
   "cell_type": "markdown",
   "id": "e6a3c2b7-a1a7-4e41-a4e8-0c6e95e8ec72",
   "metadata": {},
   "source": [
    "[HRLDAS Tutorial](https://github.com/NCAR/hrldas/blob/master/tutorial/Note6_AMS2024_NoahMP_short_course.ipynb)"
   ]
  },
  {
   "cell_type": "markdown",
   "id": "441841a5-9cd6-4d99-9d08-704e0abb8733",
   "metadata": {},
   "source": [
    "# Use Docker to install HRLDAS"
   ]
  },
  {
   "cell_type": "markdown",
   "id": "c07489ba-3f64-4b69-98ba-75587dd49a22",
   "metadata": {},
   "source": [
    "[Instraction for setting up Noah-MP docker container](https://github.com/NCAR/hrldas/blob/develop/tutorial/NoahMP_docker_container_setup.pdf)"
   ]
  },
  {
   "cell_type": "markdown",
   "id": "9020d896-2683-4abb-9e58-e11a8e822085",
   "metadata": {},
   "source": [
    "[HRLDAS Tutorial](https://github.com/NCAR/hrldas/blob/master/tutorial/Note6_AMS2024_NoahMP_short_course.ipynb)"
   ]
  }
 ],
 "metadata": {
  "kernelspec": {
   "display_name": "Python 3 (ipykernel)",
   "language": "python",
   "name": "python3"
  },
  "language_info": {
   "codemirror_mode": {
    "name": "ipython",
    "version": 3
   },
   "file_extension": ".py",
   "mimetype": "text/x-python",
   "name": "python",
   "nbconvert_exporter": "python",
   "pygments_lexer": "ipython3",
   "version": "3.10.12"
  }
 },
 "nbformat": 4,
 "nbformat_minor": 5
}
